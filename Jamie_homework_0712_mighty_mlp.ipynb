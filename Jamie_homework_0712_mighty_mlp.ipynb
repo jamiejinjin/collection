{
 "cells": [
  {
   "cell_type": "code",
   "execution_count": 1,
   "metadata": {
    "collapsed": true
   },
   "outputs": [],
   "source": [
    "import numpy as np\n",
    "import pandas as pd"
   ]
  },
  {
   "cell_type": "code",
   "execution_count": 2,
   "metadata": {
    "collapsed": true
   },
   "outputs": [],
   "source": [
    "train_j = pd.read_csv(\"/Users/miemie/Downloads/human_phone_train.csv\")\n",
    "test_j = pd.read_csv(\"/Users/miemie/Downloads/human_phone_test.csv\")"
   ]
  },
  {
   "cell_type": "code",
   "execution_count": 6,
   "metadata": {},
   "outputs": [
    {
     "data": {
      "text/plain": [
       "(3609, 563)"
      ]
     },
     "execution_count": 6,
     "metadata": {},
     "output_type": "execute_result"
    }
   ],
   "source": [
    "train_j.values.shape #先列出所有数据的array形状"
   ]
  },
  {
   "cell_type": "code",
   "execution_count": 4,
   "metadata": {
    "collapsed": true
   },
   "outputs": [],
   "source": [
    "train_jy = train_j.values[...,1]"
   ]
  },
  {
   "cell_type": "code",
   "execution_count": 5,
   "metadata": {},
   "outputs": [
    {
     "data": {
      "text/plain": [
       "array(['STANDING', 'STANDING', 'STANDING', ..., 'WALKING_UPSTAIRS',\n",
       "       'WALKING_UPSTAIRS', 'WALKING_DOWNSTAIRS'], dtype=object)"
      ]
     },
     "execution_count": 5,
     "metadata": {},
     "output_type": "execute_result"
    }
   ],
   "source": [
    "train_jy"
   ]
  },
  {
   "cell_type": "code",
   "execution_count": 10,
   "metadata": {},
   "outputs": [],
   "source": [
    "catelog = list(set(train_jy.tolist()))"
   ]
  },
  {
   "cell_type": "code",
   "execution_count": 11,
   "metadata": {},
   "outputs": [
    {
     "data": {
      "text/plain": [
       "['LAYING',\n",
       " 'STANDING',\n",
       " 'SITTING',\n",
       " 'WALKING_DOWNSTAIRS',\n",
       " 'WALKING_UPSTAIRS',\n",
       " 'WALKING']"
      ]
     },
     "execution_count": 11,
     "metadata": {},
     "output_type": "execute_result"
    }
   ],
   "source": [
    "catelog"
   ]
  },
  {
   "cell_type": "code",
   "execution_count": 13,
   "metadata": {},
   "outputs": [],
   "source": [
    "cate2int = dict((v,k) for k,v in enumerate(catelog))"
   ]
  },
  {
   "cell_type": "code",
   "execution_count": 14,
   "metadata": {},
   "outputs": [
    {
     "data": {
      "text/plain": [
       "{'LAYING': 0,\n",
       " 'STANDING': 1,\n",
       " 'SITTING': 2,\n",
       " 'WALKING_DOWNSTAIRS': 3,\n",
       " 'WALKING_UPSTAIRS': 4,\n",
       " 'WALKING': 5}"
      ]
     },
     "execution_count": 14,
     "metadata": {},
     "output_type": "execute_result"
    }
   ],
   "source": [
    "cate2int"
   ]
  },
  {
   "cell_type": "code",
   "execution_count": 21,
   "metadata": {},
   "outputs": [],
   "source": [
    "train_jy_arr = np.vectorize(lambda x: cate2int[x])(train_jy)"
   ]
  },
  {
   "cell_type": "code",
   "execution_count": 22,
   "metadata": {},
   "outputs": [
    {
     "data": {
      "text/plain": [
       "<function __main__.<lambda>(x)>"
      ]
     },
     "execution_count": 22,
     "metadata": {},
     "output_type": "execute_result"
    }
   ],
   "source": [
    "lambda x: cate2int[x]"
   ]
  },
  {
   "cell_type": "code",
   "execution_count": 24,
   "metadata": {},
   "outputs": [],
   "source": [
    "a = lambda x: cate2int[x]"
   ]
  },
  {
   "cell_type": "code",
   "execution_count": 26,
   "metadata": {},
   "outputs": [
    {
     "data": {
      "text/plain": [
       "2"
      ]
     },
     "execution_count": 26,
     "metadata": {},
     "output_type": "execute_result"
    }
   ],
   "source": [
    "a(\"SITTING\")"
   ]
  },
  {
   "cell_type": "code",
   "execution_count": 27,
   "metadata": {
    "collapsed": true
   },
   "outputs": [],
   "source": [
    "b = np.vectorize(a)"
   ]
  },
  {
   "cell_type": "code",
   "execution_count": 28,
   "metadata": {},
   "outputs": [
    {
     "data": {
      "text/plain": [
       "array([1, 1, 1, ..., 4, 4, 3])"
      ]
     },
     "execution_count": 28,
     "metadata": {},
     "output_type": "execute_result"
    }
   ],
   "source": [
    "b(train_jy)"
   ]
  },
  {
   "cell_type": "code",
   "execution_count": 29,
   "metadata": {},
   "outputs": [
    {
     "data": {
      "text/plain": [
       "array([1, 1, 1, ..., 4, 4, 3])"
      ]
     },
     "execution_count": 29,
     "metadata": {},
     "output_type": "execute_result"
    }
   ],
   "source": [
    "train_jy_arr"
   ]
  },
  {
   "cell_type": "markdown",
   "metadata": {},
   "source": [
    "## Transform to One Hot Encoding"
   ]
  },
  {
   "cell_type": "code",
   "execution_count": 30,
   "metadata": {},
   "outputs": [
    {
     "data": {
      "text/plain": [
       "array([[1., 0., 0., 0., 0., 0.],\n",
       "       [0., 1., 0., 0., 0., 0.],\n",
       "       [0., 0., 1., 0., 0., 0.],\n",
       "       [0., 0., 0., 1., 0., 0.],\n",
       "       [0., 0., 0., 0., 1., 0.],\n",
       "       [0., 0., 0., 0., 0., 1.]])"
      ]
     },
     "execution_count": 30,
     "metadata": {},
     "output_type": "execute_result"
    }
   ],
   "source": [
    "np.eye(len(catelog))"
   ]
  },
  {
   "cell_type": "code",
   "execution_count": 32,
   "metadata": {},
   "outputs": [],
   "source": [
    "train_jy_hot = np.eye(len(catelog))[train_jy_arr]"
   ]
  },
  {
   "cell_type": "code",
   "execution_count": 33,
   "metadata": {},
   "outputs": [
    {
     "data": {
      "text/plain": [
       "array([[0., 1., 0., 0., 0., 0.],\n",
       "       [0., 1., 0., 0., 0., 0.],\n",
       "       [0., 1., 0., 0., 0., 0.],\n",
       "       ...,\n",
       "       [0., 0., 0., 0., 1., 0.],\n",
       "       [0., 0., 0., 0., 1., 0.],\n",
       "       [0., 0., 0., 1., 0., 0.]])"
      ]
     },
     "execution_count": 33,
     "metadata": {},
     "output_type": "execute_result"
    }
   ],
   "source": [
    "train_jy_hot"
   ]
  },
  {
   "cell_type": "code",
   "execution_count": 34,
   "metadata": {
    "collapsed": true
   },
   "outputs": [],
   "source": [
    "train_x = train_j.values[...,2:]"
   ]
  },
  {
   "cell_type": "code",
   "execution_count": 35,
   "metadata": {},
   "outputs": [
    {
     "data": {
      "text/plain": [
       "array([[0.27899999999999997, -0.0196, -0.11, ..., -0.852, 0.182, -0.043],\n",
       "       [0.27699999999999997, -0.0127, -0.10300000000000001, ..., -0.852,\n",
       "        0.188, -0.0347],\n",
       "       [0.27699999999999997, -0.0147, -0.107, ..., -0.85,\n",
       "        0.18899999999999997, -0.0351],\n",
       "       ...,\n",
       "       [0.284, -0.00796, -0.11900000000000001, ..., -0.657, 0.272, 0.183],\n",
       "       [0.207, 0.0246, -0.10400000000000001, ..., -0.657, 0.267, 0.188],\n",
       "       [0.39299999999999996, -0.0178, -0.0902, ..., -0.807, 0.19,\n",
       "        0.11800000000000001]], dtype=object)"
      ]
     },
     "execution_count": 35,
     "metadata": {},
     "output_type": "execute_result"
    }
   ],
   "source": [
    "train_x"
   ]
  },
  {
   "cell_type": "code",
   "execution_count": 36,
   "metadata": {},
   "outputs": [
    {
     "data": {
      "text/plain": [
       "(3609, 561)"
      ]
     },
     "execution_count": 36,
     "metadata": {},
     "output_type": "execute_result"
    }
   ],
   "source": [
    "train_x.shape"
   ]
  },
  {
   "cell_type": "code",
   "execution_count": 37,
   "metadata": {},
   "outputs": [
    {
     "data": {
      "text/plain": [
       "(3609, 6)"
      ]
     },
     "execution_count": 37,
     "metadata": {},
     "output_type": "execute_result"
    }
   ],
   "source": [
    "train_jy_hot.shape"
   ]
  },
  {
   "cell_type": "markdown",
   "metadata": {},
   "source": [
    "## Build the model"
   ]
  },
  {
   "cell_type": "code",
   "execution_count": 38,
   "metadata": {
    "collapsed": true
   },
   "outputs": [],
   "source": [
    "from keras.layers import *\n",
    "from keras.models import *\n",
    "from keras.optimizers import Adam"
   ]
  },
  {
   "cell_type": "markdown",
   "metadata": {},
   "source": [
    "#### pure linear"
   ]
  },
  {
   "cell_type": "code",
   "execution_count": 39,
   "metadata": {
    "collapsed": true
   },
   "outputs": [],
   "source": [
    "ipt = Input((561,))"
   ]
  },
  {
   "cell_type": "code",
   "execution_count": 40,
   "metadata": {
    "collapsed": true
   },
   "outputs": [],
   "source": [
    "x = Dense(len(catelog),activation=\"softmax\")(ipt)\n",
    "model = Model(ipt,x)"
   ]
  },
  {
   "cell_type": "code",
   "execution_count": 42,
   "metadata": {},
   "outputs": [
    {
     "name": "stdout",
     "output_type": "stream",
     "text": [
      "_________________________________________________________________\n",
      "Layer (type)                 Output Shape              Param #   \n",
      "=================================================================\n",
      "input_1 (InputLayer)         (None, 561)               0         \n",
      "_________________________________________________________________\n",
      "dense_1 (Dense)              (None, 6)                 3372      \n",
      "=================================================================\n",
      "Total params: 3,372\n",
      "Trainable params: 3,372\n",
      "Non-trainable params: 0\n",
      "_________________________________________________________________\n"
     ]
    }
   ],
   "source": [
    "model.summary()"
   ]
  },
  {
   "cell_type": "code",
   "execution_count": 50,
   "metadata": {},
   "outputs": [
    {
     "data": {
      "text/plain": [
       "(561, 6)"
      ]
     },
     "execution_count": 50,
     "metadata": {},
     "output_type": "execute_result"
    }
   ],
   "source": [
    "model.get_weights()[0].shape"
   ]
  },
  {
   "cell_type": "code",
   "execution_count": 51,
   "metadata": {
    "collapsed": true
   },
   "outputs": [],
   "source": [
    "model.compile(optimizer=\"Adam\",loss=\"categorical_crossentropy\",metrics=[\"accuracy\"])"
   ]
  },
  {
   "cell_type": "code",
   "execution_count": 53,
   "metadata": {},
   "outputs": [
    {
     "name": "stdout",
     "output_type": "stream",
     "text": [
      "Train on 2526 samples, validate on 1083 samples\n",
      "Epoch 1/16\n",
      "2526/2526 [==============================] - 1s 265us/step - loss: 0.3898 - acc: 0.9125 - val_loss: 0.4302 - val_acc: 0.9021\n",
      "Epoch 2/16\n",
      "2526/2526 [==============================] - 1s 260us/step - loss: 0.3756 - acc: 0.9149 - val_loss: 0.4223 - val_acc: 0.8846\n",
      "Epoch 3/16\n",
      "2526/2526 [==============================] - 1s 259us/step - loss: 0.3612 - acc: 0.9200 - val_loss: 0.4008 - val_acc: 0.9021\n",
      "Epoch 4/16\n",
      "2526/2526 [==============================] - 1s 255us/step - loss: 0.3508 - acc: 0.9161 - val_loss: 0.3891 - val_acc: 0.9095\n",
      "Epoch 5/16\n",
      "2526/2526 [==============================] - 1s 260us/step - loss: 0.3379 - acc: 0.9188 - val_loss: 0.3809 - val_acc: 0.9215\n",
      "Epoch 6/16\n",
      "2526/2526 [==============================] - 1s 260us/step - loss: 0.3281 - acc: 0.9252 - val_loss: 0.3675 - val_acc: 0.9243\n",
      "Epoch 7/16\n",
      "2526/2526 [==============================] - 1s 257us/step - loss: 0.3167 - acc: 0.9291 - val_loss: 0.3625 - val_acc: 0.9197\n",
      "Epoch 8/16\n",
      "2526/2526 [==============================] - 1s 266us/step - loss: 0.3085 - acc: 0.9264 - val_loss: 0.3507 - val_acc: 0.9280\n",
      "Epoch 9/16\n",
      "2526/2526 [==============================] - 1s 350us/step - loss: 0.2980 - acc: 0.9327 - val_loss: 0.3447 - val_acc: 0.9197\n",
      "Epoch 10/16\n",
      "2526/2526 [==============================] - 1s 346us/step - loss: 0.2911 - acc: 0.9311 - val_loss: 0.3399 - val_acc: 0.9169\n",
      "Epoch 11/16\n",
      "2526/2526 [==============================] - 1s 389us/step - loss: 0.2833 - acc: 0.9343 - val_loss: 0.3303 - val_acc: 0.9298\n",
      "Epoch 12/16\n",
      "2526/2526 [==============================] - 1s 376us/step - loss: 0.2765 - acc: 0.9386 - val_loss: 0.3242 - val_acc: 0.9271\n",
      "Epoch 13/16\n",
      "2526/2526 [==============================] - 1s 335us/step - loss: 0.2708 - acc: 0.9359 - val_loss: 0.3240 - val_acc: 0.9252\n",
      "Epoch 14/16\n",
      "2526/2526 [==============================] - 1s 285us/step - loss: 0.2639 - acc: 0.9398 - val_loss: 0.3091 - val_acc: 0.9326\n",
      "Epoch 15/16\n",
      "2526/2526 [==============================] - 1s 292us/step - loss: 0.2587 - acc: 0.9375 - val_loss: 0.3122 - val_acc: 0.9280\n",
      "Epoch 16/16\n",
      "2526/2526 [==============================] - 1s 265us/step - loss: 0.2534 - acc: 0.9410 - val_loss: 0.3021 - val_acc: 0.9298\n"
     ]
    },
    {
     "data": {
      "text/plain": [
       "<keras.callbacks.History at 0x1271ca9e8>"
      ]
     },
     "execution_count": 53,
     "metadata": {},
     "output_type": "execute_result"
    }
   ],
   "source": [
    "model.fit(train_x,train_jy_hot,batch_size=220,epochs=16,validation_split=.3,shuffle=True)"
   ]
  },
  {
   "cell_type": "markdown",
   "metadata": {},
   "source": [
    "### Neural network"
   ]
  },
  {
   "cell_type": "code",
   "execution_count": 54,
   "metadata": {
    "collapsed": true
   },
   "outputs": [],
   "source": [
    "ipt = Input((561,))"
   ]
  },
  {
   "cell_type": "code",
   "execution_count": 56,
   "metadata": {
    "collapsed": true
   },
   "outputs": [],
   "source": [
    "x = Dense(1000,activation=\"relu\")(ipt)\n",
    "x = Dense(len(catelog),activation=\"softmax\")(x)\n",
    "model = Model(ipt,x)"
   ]
  },
  {
   "cell_type": "code",
   "execution_count": 61,
   "metadata": {},
   "outputs": [
    {
     "name": "stdout",
     "output_type": "stream",
     "text": [
      "Train on 2345 samples, validate on 1264 samples\n",
      "Epoch 1/17\n",
      "2345/2345 [==============================] - 1s 487us/step - loss: 0.2179 - acc: 0.9288 - val_loss: 0.2195 - val_acc: 0.9296\n",
      "Epoch 2/17\n",
      "2345/2345 [==============================] - 1s 355us/step - loss: 0.0992 - acc: 0.9574 - val_loss: 0.2062 - val_acc: 0.9256\n",
      "Epoch 3/17\n",
      "2345/2345 [==============================] - 1s 360us/step - loss: 0.0668 - acc: 0.9736 - val_loss: 0.1462 - val_acc: 0.9581\n",
      "Epoch 4/17\n",
      "2345/2345 [==============================] - 1s 355us/step - loss: 0.0375 - acc: 0.9846 - val_loss: 0.1788 - val_acc: 0.9454\n",
      "Epoch 5/17\n",
      "2345/2345 [==============================] - 1s 358us/step - loss: 0.0324 - acc: 0.9919 - val_loss: 0.1480 - val_acc: 0.9565\n",
      "Epoch 6/17\n",
      "2345/2345 [==============================] - 1s 354us/step - loss: 0.0299 - acc: 0.9915 - val_loss: 0.1578 - val_acc: 0.9494\n",
      "Epoch 7/17\n",
      "2345/2345 [==============================] - 1s 356us/step - loss: 0.0315 - acc: 0.9898 - val_loss: 0.1544 - val_acc: 0.9494\n",
      "Epoch 8/17\n",
      "2345/2345 [==============================] - 1s 355us/step - loss: 0.0282 - acc: 0.9915 - val_loss: 0.1684 - val_acc: 0.9478\n",
      "Epoch 9/17\n",
      "2345/2345 [==============================] - 1s 358us/step - loss: 0.0286 - acc: 0.9915 - val_loss: 0.1665 - val_acc: 0.9494\n",
      "Epoch 10/17\n",
      "2345/2345 [==============================] - 1s 364us/step - loss: 0.0299 - acc: 0.9902 - val_loss: 0.1837 - val_acc: 0.9415\n",
      "Epoch 11/17\n",
      "2345/2345 [==============================] - 1s 356us/step - loss: 0.0301 - acc: 0.9876 - val_loss: 0.1659 - val_acc: 0.9478\n",
      "Epoch 12/17\n",
      "2345/2345 [==============================] - 1s 347us/step - loss: 0.0289 - acc: 0.9881 - val_loss: 0.1770 - val_acc: 0.9454\n",
      "Epoch 13/17\n",
      "2345/2345 [==============================] - 1s 409us/step - loss: 0.0254 - acc: 0.9919 - val_loss: 0.1752 - val_acc: 0.9454\n",
      "Epoch 14/17\n",
      "2345/2345 [==============================] - 1s 382us/step - loss: 0.0284 - acc: 0.9910 - val_loss: 0.1810 - val_acc: 0.9438\n",
      "Epoch 15/17\n",
      "2345/2345 [==============================] - 1s 369us/step - loss: 0.0279 - acc: 0.9902 - val_loss: 0.1827 - val_acc: 0.9422\n",
      "Epoch 16/17\n",
      "2345/2345 [==============================] - 1s 358us/step - loss: 0.0254 - acc: 0.9932 - val_loss: 0.1895 - val_acc: 0.9399\n",
      "Epoch 17/17\n",
      "2345/2345 [==============================] - 1s 370us/step - loss: 0.0266 - acc: 0.9915 - val_loss: 0.1678 - val_acc: 0.9509\n"
     ]
    },
    {
     "data": {
      "text/plain": [
       "<keras.callbacks.History at 0x128badb38>"
      ]
     },
     "execution_count": 61,
     "metadata": {},
     "output_type": "execute_result"
    }
   ],
   "source": [
    "model.compile(optimizer=Adam(),loss=\"categorical_crossentropy\",metrics=[\"accuracy\"])\n",
    "model.fit(train_x,train_jy_hot,batch_size=268,epochs=17,validation_split=.35,shuffle=True)"
   ]
  },
  {
   "cell_type": "code",
   "execution_count": null,
   "metadata": {
    "collapsed": true
   },
   "outputs": [],
   "source": []
  }
 ],
 "metadata": {
  "kernelspec": {
   "display_name": "Python 3",
   "language": "python",
   "name": "python3"
  },
  "language_info": {
   "codemirror_mode": {
    "name": "ipython",
    "version": 3
   },
   "file_extension": ".py",
   "mimetype": "text/x-python",
   "name": "python",
   "nbconvert_exporter": "python",
   "pygments_lexer": "ipython3",
   "version": "3.6.1"
  }
 },
 "nbformat": 4,
 "nbformat_minor": 2
}
